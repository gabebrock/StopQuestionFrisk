{
 "cells": [
  {
   "cell_type": "code",
   "execution_count": null,
   "metadata": {},
   "outputs": [],
   "source": [
    "from census import Census\n",
    "from us import states\n",
    "import pandas as pd\n",
    "import os\n",
    "\n",
    "# Replace 'PLEASE_OBTAIN AN API KEY...' with your actual API key\n",
    "API_KEY = os.getenv('censusAPIkey')\n",
    "c = Census(API_KEY)"
   ]
  },
  {
   "cell_type": "markdown",
   "metadata": {
    "vscode": {
     "languageId": "plaintext"
    }
   },
   "source": [
    "Stop-and-frisk (SQF) data from NYPD, 2015-2024. \n",
    "- https://www1.nyc.gov/site/nypd/stats/reports-analysis/stopfrisk.page\n",
    "  \n",
    "Census data (demographics etc.) from the American Community Survey (ACS) 2014--2019:\n",
    "- https://walker-data.com/tidycensus/articles/spatial-data.html\n",
    "  \n",
    "See also the handy list of variables:\n",
    "- https://api.census.gov/data/2019/acs/acs5/variables.html\n",
    "  \n",
    "Census tract shapefiles 2019 from US Census: \n",
    "- https://www.census.gov/cgi-bin/geo/shapefiles/index.php?year=2019&layergroup=Census+Tracts\n",
    "  \n",
    "New York state shoreline: \n",
    "- http://gis.ny.gov/gisdata/inventories/details.cfm?DSID=927"
   ]
  },
  {
   "cell_type": "code",
   "execution_count": null,
   "metadata": {},
   "outputs": [
    {
     "name": "stdout",
     "output_type": "stream",
     "text": [
      "{'borough': ['Bronx', 'Brooklyn', 'Manhattan', 'Queens', 'Staten Island'], 'county': ['Bronx County', 'Kings County', 'New York County', 'Queens County', 'Richmond County'], 'countyfp': ['005', '047', '061', '081', '085']}\n"
     ]
    }
   ],
   "source": [
    "COUNTY_DATA = {\n",
    "    \"borough\": [\"Bronx\", \"Brooklyn\", \"Manhattan\", \"Queens\", \"Staten Island\"],\n",
    "    \"county\": [\"Bronx County\", \"Kings County\", \"New York County\", \"Queens County\", \"Richmond County\"],\n",
    "    \"countyfp\": [\"005\", \"047\", \"061\", \"081\", \"085\"]\n",
    "}\n",
    "\n",
    "COUNTY = pd.DataFrame(data)\n"
   ]
  }
 ],
 "metadata": {
  "kernelspec": {
   "display_name": "base",
   "language": "python",
   "name": "python3"
  },
  "language_info": {
   "codemirror_mode": {
    "name": "ipython",
    "version": 3
   },
   "file_extension": ".py",
   "mimetype": "text/x-python",
   "name": "python",
   "nbconvert_exporter": "python",
   "pygments_lexer": "ipython3",
   "version": "3.10.12"
  }
 },
 "nbformat": 4,
 "nbformat_minor": 2
}
